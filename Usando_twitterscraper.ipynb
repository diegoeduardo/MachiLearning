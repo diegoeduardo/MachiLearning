{
  "nbformat": 4,
  "nbformat_minor": 0,
  "metadata": {
    "colab": {
      "name": "Usando_twitterscraper.ipynb",
      "provenance": [],
      "authorship_tag": "ABX9TyOXgUOU06KQTMavZ8FWOl1G",
      "include_colab_link": true
    },
    "kernelspec": {
      "name": "python3",
      "display_name": "Python 3"
    }
  },
  "cells": [
    {
      "cell_type": "markdown",
      "metadata": {
        "id": "view-in-github",
        "colab_type": "text"
      },
      "source": [
        "<a href=\"https://colab.research.google.com/github/diegoeduardo/MachineLearning/blob/master/Usando_twitterscraper.ipynb\" target=\"_parent\"><img src=\"https://colab.research.google.com/assets/colab-badge.svg\" alt=\"Open In Colab\"/></a>"
      ]
    },
    {
      "cell_type": "code",
      "metadata": {
        "colab": {
          "base_uri": "https://localhost:8080/"
        },
        "id": "rRlZKdg1Fv6O",
        "outputId": "0138f2f2-42c3-4bd6-b7c8-c25fb3471fe3"
      },
      "source": [
        "pip install twitterscraper"
      ],
      "execution_count": null,
      "outputs": [
        {
          "output_type": "stream",
          "text": [
            "Collecting twitterscraper\n",
            "  Downloading https://files.pythonhosted.org/packages/1c/d9/71aad697f3853be116aa26b83a80ce1b374deb2c65473e42e3a020f9b880/twitterscraper-1.6.1.tar.gz\n",
            "Collecting coala-utils~=0.5.0\n",
            "  Downloading https://files.pythonhosted.org/packages/54/00/74ec750cfc4e830f9d1cfdd4d559f3d2d4ba1b834b78d5266446db3fd1d6/coala_utils-0.5.1-py3-none-any.whl\n",
            "Requirement already satisfied: bs4 in /usr/local/lib/python3.7/dist-packages (from twitterscraper) (0.0.1)\n",
            "Requirement already satisfied: lxml in /usr/local/lib/python3.7/dist-packages (from twitterscraper) (4.2.6)\n",
            "Requirement already satisfied: requests in /usr/local/lib/python3.7/dist-packages (from twitterscraper) (2.23.0)\n",
            "Collecting billiard\n",
            "\u001b[?25l  Downloading https://files.pythonhosted.org/packages/e8/5e/7591866ff45b370354bd20291cb6f87ddb2eef1f1c88c890a38412037e11/billiard-3.6.3.0-py3-none-any.whl (89kB)\n",
            "\u001b[K     |████████████████████████████████| 92kB 5.3MB/s \n",
            "\u001b[?25hRequirement already satisfied: beautifulsoup4 in /usr/local/lib/python3.7/dist-packages (from bs4->twitterscraper) (4.6.3)\n",
            "Requirement already satisfied: chardet<4,>=3.0.2 in /usr/local/lib/python3.7/dist-packages (from requests->twitterscraper) (3.0.4)\n",
            "Requirement already satisfied: certifi>=2017.4.17 in /usr/local/lib/python3.7/dist-packages (from requests->twitterscraper) (2020.12.5)\n",
            "Requirement already satisfied: idna<3,>=2.5 in /usr/local/lib/python3.7/dist-packages (from requests->twitterscraper) (2.10)\n",
            "Requirement already satisfied: urllib3!=1.25.0,!=1.25.1,<1.26,>=1.21.1 in /usr/local/lib/python3.7/dist-packages (from requests->twitterscraper) (1.24.3)\n",
            "Building wheels for collected packages: twitterscraper\n",
            "  Building wheel for twitterscraper (setup.py) ... \u001b[?25l\u001b[?25hdone\n",
            "  Created wheel for twitterscraper: filename=twitterscraper-1.6.1-cp37-none-any.whl size=11347 sha256=2d04f9ec05c7cdf7dc4d30121e120b202662d85862f4eb69d84479255637b275\n",
            "  Stored in directory: /root/.cache/pip/wheels/1a/50/a0/808fd6df0ac14c168b73874056a1ca52e4d88c0c1ecedd4e48\n",
            "Successfully built twitterscraper\n",
            "Installing collected packages: coala-utils, billiard, twitterscraper\n",
            "Successfully installed billiard-3.6.3.0 coala-utils-0.5.1 twitterscraper-1.6.1\n"
          ],
          "name": "stdout"
        }
      ]
    },
    {
      "cell_type": "code",
      "metadata": {
        "id": "3SnZtC_JFI12"
      },
      "source": [
        "from twitterscraper.query import query_tweets\r\n",
        "import pandas as pd\r\n",
        "import datetime as dt"
      ],
      "execution_count": null,
      "outputs": []
    },
    {
      "cell_type": "code",
      "metadata": {
        "id": "ahK8EiKNF0uX"
      },
      "source": [
        "begin_date = dt.date(2019,4,19)\r\n",
        "end_date = dt.date(2019,4,20)"
      ],
      "execution_count": null,
      "outputs": []
    },
    {
      "cell_type": "code",
      "metadata": {
        "id": "2iyd44r4GFST"
      },
      "source": [
        "limit = 1000\r\n",
        "lang = 'english'"
      ],
      "execution_count": null,
      "outputs": []
    },
    {
      "cell_type": "code",
      "metadata": {
        "id": "MVIY5QwKGKbK"
      },
      "source": [
        "tweets = query_tweets(\"notre dame fire\",begindate=begin_date,enddate = end_date, limit = limit, lang = lang)"
      ],
      "execution_count": null,
      "outputs": []
    },
    {
      "cell_type": "code",
      "metadata": {
        "id": "yzMcyiQ8Gehi"
      },
      "source": [
        "df = pd.DataFrame(tweets)"
      ],
      "execution_count": null,
      "outputs": []
    },
    {
      "cell_type": "code",
      "metadata": {
        "colab": {
          "base_uri": "https://localhost:8080/",
          "height": 32
        },
        "id": "IbJjoS1TJgOo",
        "outputId": "5f3186a3-9bcd-4cd4-cc3b-479768a1bfda"
      },
      "source": [
        "df.head()"
      ],
      "execution_count": null,
      "outputs": [
        {
          "output_type": "execute_result",
          "data": {
            "text/html": [
              "<div>\n",
              "<style scoped>\n",
              "    .dataframe tbody tr th:only-of-type {\n",
              "        vertical-align: middle;\n",
              "    }\n",
              "\n",
              "    .dataframe tbody tr th {\n",
              "        vertical-align: top;\n",
              "    }\n",
              "\n",
              "    .dataframe thead th {\n",
              "        text-align: right;\n",
              "    }\n",
              "</style>\n",
              "<table border=\"1\" class=\"dataframe\">\n",
              "  <thead>\n",
              "    <tr style=\"text-align: right;\">\n",
              "      <th></th>\n",
              "    </tr>\n",
              "  </thead>\n",
              "  <tbody>\n",
              "  </tbody>\n",
              "</table>\n",
              "</div>"
            ],
            "text/plain": [
              "Empty DataFrame\n",
              "Columns: []\n",
              "Index: []"
            ]
          },
          "metadata": {
            "tags": []
          },
          "execution_count": 23
        }
      ]
    },
    {
      "cell_type": "code",
      "metadata": {
        "id": "o0DVVkELK53n"
      },
      "source": [
        "from twitterscraper import query_tweets\r\n",
        "\r\n",
        "\r\n",
        "# All tweets matching either Trump or Clinton will be returned. You will get at\r\n",
        "# least 10 results within the minimal possible time/number of requests\r\n",
        "for tweet in query_tweets(\"Trump OR Clinton\", 10)[:10]:\r\n",
        "    print(tweet.user.encode('utf-8'))"
      ],
      "execution_count": null,
      "outputs": []
    }
  ]
}