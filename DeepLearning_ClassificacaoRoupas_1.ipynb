{
  "nbformat": 4,
  "nbformat_minor": 0,
  "metadata": {
    "colab": {
      "name": "DeepLearning_ClassificacaoRoupas_1.ipynb",
      "provenance": [],
      "collapsed_sections": [],
      "authorship_tag": "ABX9TyOVI8QDWrGUPYQubfJgadxF",
      "include_colab_link": true
    },
    "kernelspec": {
      "name": "python3",
      "display_name": "Python 3"
    }
  },
  "cells": [
    {
      "cell_type": "markdown",
      "metadata": {
        "id": "view-in-github",
        "colab_type": "text"
      },
      "source": [
        "<a href=\"https://colab.research.google.com/github/diegoeduardo/MachineLearning/blob/master/DeepLearning_ClassificacaoRoupas_1.ipynb\" target=\"_parent\"><img src=\"https://colab.research.google.com/assets/colab-badge.svg\" alt=\"Open In Colab\"/></a>"
      ]
    },
    {
      "cell_type": "markdown",
      "metadata": {
        "id": "NjoixjTJDuS1",
        "colab_type": "text"
      },
      "source": [
        "##Código com comentários das aulas "
      ]
    },
    {
      "cell_type": "markdown",
      "metadata": {
        "id": "EIA5Vm6Xc9u_",
        "colab_type": "text"
      },
      "source": [
        "## Imports"
      ]
    },
    {
      "cell_type": "code",
      "metadata": {
        "id": "L1CpoRQxc0gQ",
        "colab_type": "code",
        "colab": {}
      },
      "source": [
        "#importando o TensorFlow\n",
        "import tensorflow\n",
        "#keras dentro do TensorFlow\n",
        "from tensorflow import keras\n",
        "from tensorflow.keras.models import load_model\n",
        "#visualizar as imagens usaremos biblioteca matplotlib - desenha o grafico com matematico\n",
        "import matplotlib.pyplot as plt\n",
        "import numpy as np\n"
      ],
      "execution_count": 0,
      "outputs": []
    },
    {
      "cell_type": "markdown",
      "metadata": {
        "id": "YorFYc4cdDHT",
        "colab_type": "text"
      },
      "source": [
        "##Carregando o dataset"
      ]
    },
    {
      "cell_type": "code",
      "metadata": {
        "id": "8tpgCRyJc2bn",
        "colab_type": "code",
        "colab": {}
      },
      "source": [
        "#dentro do Keras(alto nivel sob o tensor flow )  , fashion_mnist é o dataset dentro do keras\n",
        "dataset = keras.datasets.fashion_mnist\n",
        "\n",
        "#carregar o dataset - retorna um array dentro de parenteses - 2 duplas (treino e teste)\n",
        "#entao colocaremos em duas duplas, a primeira para treino e a seg para teste\n",
        "((imagens_treino, identificacoes_treino), (imagens_teste, identificacoes_teste)) = dataset.load_data()"
      ],
      "execution_count": 0,
      "outputs": []
    },
    {
      "cell_type": "markdown",
      "metadata": {
        "id": "7h-oI6jsdHpW",
        "colab_type": "text"
      },
      "source": [
        "##Explorando os dados"
      ]
    },
    {
      "cell_type": "code",
      "metadata": {
        "id": "Xypqlrfac4bu",
        "colab_type": "code",
        "colab": {
          "base_uri": "https://localhost:8080/",
          "height": 35
        },
        "outputId": "348382b2-0aff-4642-bdb1-54203a414b0e"
      },
      "source": [
        "#tamanho do array de treino\n",
        "len(imagens_treino)\n",
        "#saber o formato - (60000, 28, 28) >> array de 28 e 28 colunas\n",
        "imagens_treino.shape\n",
        "\n",
        "#tamanho do array de teste - ((10000, 28, 28))\n",
        "imagens_teste.shape\n",
        "\n",
        "#idendficacoes - checagens treino 60mil , teste 10mil\n",
        "len(identificacoes_treino)\n",
        "len(identificacoes_teste)\n",
        "\n",
        "#retorna um array para mostrar as labels e nao uma palavra >> array([9, 0, 0, ..., 3, 0, 5], dtype=uint8)\n",
        "identificacoes_treino\n",
        "\n",
        "#valor minimo - ret 0\n",
        "identificacoes_treino.min()\n",
        "\n",
        "#valor maximo - ret 9\n",
        "identificacoes_treino.max()"
      ],
      "execution_count": 11,
      "outputs": [
        {
          "output_type": "execute_result",
          "data": {
            "text/plain": [
              "9"
            ]
          },
          "metadata": {
            "tags": []
          },
          "execution_count": 11
        }
      ]
    },
    {
      "cell_type": "markdown",
      "metadata": {
        "id": "WkoYoTSMdQNG",
        "colab_type": "text"
      },
      "source": [
        "##Exibição dos dados"
      ]
    },
    {
      "cell_type": "code",
      "metadata": {
        "id": "lyM8qc4MfLiN",
        "colab_type": "code",
        "colab": {
          "base_uri": "https://localhost:8080/",
          "height": 299
        },
        "outputId": "0b07208b-66cd-4f04-c4d7-62a7475f0f59"
      },
      "source": [
        "###EXIBIR OS DADOS\n",
        "#total de classificacoes\n",
        "total_classificacoes = 10\n",
        "\n",
        "#criar um vetor com as labels conforme retorno - ja que os nomes nao estao no dataset\n",
        "nomes_de_classificacoes = ['Camiseta', 'Calça', 'Pullover', \n",
        "                           'Vestido', 'Casaco', 'Sandália', 'Camisa',\n",
        "                           'Tênis', 'Bolsa', 'Bota']\n",
        "\n",
        "#visalizar na funcao imshow - retorna uma imagem de 28 por 28 conforme acima\n",
        "plt.imshow(imagens_treino[0])\n",
        "#colocar um titulo para a imagem - retorna o titulo 9\n",
        "plt.title(identificacoes_treino[0])\n",
        "\n",
        "'''\n",
        "#loop para ver todoas as imagens\n",
        "for imagem in range(10):\n",
        "  #criar um sub grafico - sub plot\n",
        "  plt.subplot(2,5, imagem+1)\n",
        "  #para visualizar as classificacoes - passando uma im generica\n",
        "  plt.imshow(imagens_treino[imagem])\n",
        "  #para visualizar os titles - passando uma im generica - chamando a variavel de nomes de classificacoes \n",
        "  plt.title(nomes_de_classificacoes[identificacoes_treino[imagem]])\n",
        "'''\n",
        "#melhorar o treino para otimizar o loss - ver a graduacao de cores\n",
        "plt.imshow(imagens_treino[0])\n",
        "#grafico de barra cores\n",
        "plt.colorbar()  \n",
        "\n"
      ],
      "execution_count": 12,
      "outputs": [
        {
          "output_type": "execute_result",
          "data": {
            "text/plain": [
              "<matplotlib.colorbar.Colorbar at 0x7f7290740f28>"
            ]
          },
          "metadata": {
            "tags": []
          },
          "execution_count": 12
        },
        {
          "output_type": "display_data",
          "data": {
            "image/png": "[encoded data removed]",
            "text/plain": [
              "<Figure size 432x288 with 2 Axes>"
            ]
          },
          "metadata": {
            "tags": [],
            "needs_background": "light"
          }
        }
      ]
    },
    {
      "cell_type": "markdown",
      "metadata": {
        "id": "6JlVSWbFAa3F",
        "colab_type": "text"
      },
      "source": [
        "##Criando, compilando, treinando e normalizando o modelo 1\n",
        "\n"
      ]
    },
    {
      "cell_type": "code",
      "metadata": {
        "id": "PnmZ5SMUTum_",
        "colab_type": "code",
        "colab": {
          "base_uri": "https://localhost:8080/",
          "height": 69
        },
        "outputId": "e81958b1-cdd6-4f79-f401-41ed477e10df"
      },
      "source": [
        "#Modelo 1\n",
        "#modelo sequencial vai ter a entrada o processamento e saida - DL\n",
        "#tenho algo que nossas camadas sao sequenciais\n",
        "modelo = keras.Sequential([ \n",
        "    ##camada 0\n",
        "    #entrada: são as imagens (nossa imagem tem 28X28, cada um desses espacos sao chamados de pixels\n",
        "    #então dividiremos os pxels para toda imagem \n",
        "    #então vamos passar a forma input_shape para transformar a imagem de 28*28 num array em 1 dimensao de 28 * 28 pxels usamos Flatter-achatamento\n",
        "    keras.layers.Flatten(input_shape=(28, 28)),\n",
        "    \n",
        "    ##camada 1\n",
        "    #processamento  - nao tem um numero certo , mas ideal multiplos de 2\n",
        "    #no caso 256 processamentos que vao comunicar \n",
        "    #ativada quando a funcao relu (dentro tflow), bem usado (activation=tensorflow.nn.relu) - nn neral netw\n",
        "    #ativando ela pode comecar a trabalhar \n",
        "    keras.layers.Dense(256, activation=tensorflow.nn.relu),\n",
        "\n",
        "    ##camada 2\n",
        "    #saída - usando uma camada densa \n",
        "    #tinhamos 10 categorias entao a saida sera 10 camadas\n",
        "    #ativaçao dela sera com funcao softmax\n",
        "    keras.layers.Dense(10, activation=tensorflow.nn.softmax)\n",
        "])\n",
        "\n",
        "#compilar o modelo - deve receber optimizer e loss - esses sao os mais indicados\n",
        "modelo.compile(optimizer='adam', \n",
        "               loss='sparse_categorical_crossentropy')\n",
        "\n",
        "#treinar o modelo\n",
        "modelo.fit(imagens_treino, identificacoes_treino)\n",
        "\n",
        "#Se o resultado nao bater é necessario instalar a versao 2.1\n",
        "#!pip install tensorflow==2.1"
      ],
      "execution_count": 13,
      "outputs": [
        {
          "output_type": "stream",
          "text": [
            "Train on 60000 samples\n",
            "60000/60000 [==============================] - 7s 109us/sample - loss: 3.7558\n"
          ],
          "name": "stdout"
        },
        {
          "output_type": "execute_result",
          "data": {
            "text/plain": [
              "<tensorflow.python.keras.callbacks.History at 0x7f72906c5a58>"
            ]
          },
          "metadata": {
            "tags": []
          },
          "execution_count": 13
        }
      ]
    },
    {
      "cell_type": "markdown",
      "metadata": {
        "id": "vh5OdZ0hAEzu",
        "colab_type": "text"
      },
      "source": [
        "##Normalizando as imagens "
      ]
    },
    {
      "cell_type": "code",
      "metadata": {
        "id": "3tIMrNfIAXJ6",
        "colab_type": "code",
        "colab": {}
      },
      "source": [
        "#Modelo 2\n",
        "#Processo chamado de Normalizacao e adicionando mais camadas(no caso aumento de mais camadas esta aumentando a perda, ou seja piorando)\n",
        "#modelo com otimizacao  - dividindo a abragencia numerica que a rede vai processar - dividir a imagem em 255 \n",
        "imagens_treino = imagens_treino/float(255)"
      ],
      "execution_count": 0,
      "outputs": []
    },
    {
      "cell_type": "markdown",
      "metadata": {
        "id": "N4yde7j-AZU7",
        "colab_type": "text"
      },
      "source": [
        "##Criando, compilando, treinando e normalizando o modelo  - mais camadas -2 \n",
        "\n",
        "\n"
      ]
    },
    {
      "cell_type": "code",
      "metadata": {
        "id": "KdxuZc6GrE8F",
        "colab_type": "code",
        "colab": {
          "base_uri": "https://localhost:8080/",
          "height": 69
        },
        "outputId": "a4844c73-e050-455f-9621-e62df87661b7"
      },
      "source": [
        "modelo = keras.Sequential([ \n",
        "    keras.layers.Flatten(input_shape=(28, 28)),\n",
        "    keras.layers.Dense(256, activation=tensorflow.nn.relu),\n",
        "    #keras.layers.Dense(128, activation=tensorflow.nn.relu),\n",
        "    #keras.layers.Dense(64, activation=tensorflow.nn.relu),\n",
        "    keras.layers.Dense(10, activation=tensorflow.nn.softmax)\n",
        "])\n",
        "\n",
        "modelo.compile(optimizer='adam', \n",
        "               loss='sparse_categorical_crossentropy')\n",
        "\n",
        "modelo.fit(imagens_treino, identificacoes_treino)"
      ],
      "execution_count": 14,
      "outputs": [
        {
          "output_type": "stream",
          "text": [
            "Train on 60000 samples\n",
            "60000/60000 [==============================] - 6s 108us/sample - loss: 0.4826\n"
          ],
          "name": "stdout"
        },
        {
          "output_type": "execute_result",
          "data": {
            "text/plain": [
              "<tensorflow.python.keras.callbacks.History at 0x7f72906c5470>"
            ]
          },
          "metadata": {
            "tags": []
          },
          "execution_count": 14
        }
      ]
    },
    {
      "cell_type": "markdown",
      "metadata": {
        "id": "-OlfUM7ABJIE",
        "colab_type": "text"
      },
      "source": [
        "Compilando e Executando o modelo com mais epocas e validation split"
      ]
    },
    {
      "cell_type": "code",
      "metadata": {
        "id": "z4bbqB5Pw1Mb",
        "colab_type": "code",
        "colab": {
          "base_uri": "https://localhost:8080/",
          "height": 1000
        },
        "outputId": "e5f3766e-2a7d-4177-adbb-fa408716e173"
      },
      "source": [
        "#ver a metrica do que estamos ganhando - acuracia\n",
        "modelo.compile(optimizer='adam', \n",
        "               loss='sparse_categorical_crossentropy',\n",
        "               metrics=['accuracy']\n",
        "               )\n",
        "\n",
        "#modelo.fit(imagens_treino, identificacoes_treino, epochs =5, validation_split=0.2)\n",
        "\n",
        "# validation_split - alteradno a metrica de 20% para teste 0.2\n",
        "#ele mostrara val_loss e valo accuracy que são os dados da validacao que estamos fazendo\n",
        "\n",
        "#com isso vou guardar esses valores numa variavel para grafar\n",
        "historico = modelo.fit(imagens_treino, identificacoes_treino, epochs =30, validation_split=0.2)\n"
      ],
      "execution_count": 79,
      "outputs": [
        {
          "output_type": "stream",
          "text": [
            "Train on 48000 samples, validate on 12000 samples\n",
            "Epoch 1/30\n",
            "48000/48000 [==============================] - 6s 126us/sample - loss: 0.0934 - accuracy: 0.9647 - val_loss: 0.3511 - val_accuracy: 0.9099\n",
            "Epoch 2/30\n",
            "48000/48000 [==============================] - 6s 124us/sample - loss: 0.0909 - accuracy: 0.9651 - val_loss: 0.3506 - val_accuracy: 0.9051\n",
            "Epoch 3/30\n",
            "48000/48000 [==============================] - 6s 125us/sample - loss: 0.0908 - accuracy: 0.9663 - val_loss: 0.3641 - val_accuracy: 0.9074\n",
            "Epoch 4/30\n",
            "48000/48000 [==============================] - 6s 122us/sample - loss: 0.0833 - accuracy: 0.9688 - val_loss: 0.3531 - val_accuracy: 0.9112\n",
            "Epoch 5/30\n",
            "48000/48000 [==============================] - 6s 125us/sample - loss: 0.0843 - accuracy: 0.9680 - val_loss: 0.3656 - val_accuracy: 0.9073\n",
            "Epoch 6/30\n",
            "48000/48000 [==============================] - 6s 128us/sample - loss: 0.0858 - accuracy: 0.9677 - val_loss: 0.3522 - val_accuracy: 0.9074\n",
            "Epoch 7/30\n",
            "48000/48000 [==============================] - 6s 128us/sample - loss: 0.0803 - accuracy: 0.9701 - val_loss: 0.3678 - val_accuracy: 0.9082\n",
            "Epoch 8/30\n",
            "48000/48000 [==============================] - 6s 123us/sample - loss: 0.0811 - accuracy: 0.9693 - val_loss: 0.3749 - val_accuracy: 0.9104\n",
            "Epoch 9/30\n",
            "48000/48000 [==============================] - 6s 124us/sample - loss: 0.0803 - accuracy: 0.9697 - val_loss: 0.3889 - val_accuracy: 0.9020\n",
            "Epoch 10/30\n",
            "48000/48000 [==============================] - 6s 126us/sample - loss: 0.0770 - accuracy: 0.9711 - val_loss: 0.3961 - val_accuracy: 0.9070\n",
            "Epoch 11/30\n",
            "48000/48000 [==============================] - 6s 132us/sample - loss: 0.0766 - accuracy: 0.9710 - val_loss: 0.4009 - val_accuracy: 0.9013\n",
            "Epoch 12/30\n",
            "48000/48000 [==============================] - 6s 121us/sample - loss: 0.0776 - accuracy: 0.9714 - val_loss: 0.3881 - val_accuracy: 0.9068\n",
            "Epoch 13/30\n",
            "48000/48000 [==============================] - 6s 122us/sample - loss: 0.0707 - accuracy: 0.9739 - val_loss: 0.4449 - val_accuracy: 0.8994\n",
            "Epoch 14/30\n",
            "48000/48000 [==============================] - 6s 125us/sample - loss: 0.0724 - accuracy: 0.9727 - val_loss: 0.4025 - val_accuracy: 0.9083\n",
            "Epoch 15/30\n",
            "48000/48000 [==============================] - 6s 124us/sample - loss: 0.0690 - accuracy: 0.9739 - val_loss: 0.4074 - val_accuracy: 0.9090\n",
            "Epoch 16/30\n",
            "48000/48000 [==============================] - 6s 129us/sample - loss: 0.0732 - accuracy: 0.9729 - val_loss: 0.4436 - val_accuracy: 0.9045\n",
            "Epoch 17/30\n",
            "48000/48000 [==============================] - 6s 130us/sample - loss: 0.0668 - accuracy: 0.9751 - val_loss: 0.4158 - val_accuracy: 0.9057\n",
            "Epoch 18/30\n",
            "48000/48000 [==============================] - 6s 126us/sample - loss: 0.0681 - accuracy: 0.9741 - val_loss: 0.4174 - val_accuracy: 0.9094\n",
            "Epoch 19/30\n",
            "48000/48000 [==============================] - 7s 137us/sample - loss: 0.0667 - accuracy: 0.9750 - val_loss: 0.4405 - val_accuracy: 0.9018\n",
            "Epoch 20/30\n",
            "48000/48000 [==============================] - 6s 131us/sample - loss: 0.0653 - accuracy: 0.9754 - val_loss: 0.4528 - val_accuracy: 0.9013\n",
            "Epoch 21/30\n",
            "48000/48000 [==============================] - 6s 130us/sample - loss: 0.0644 - accuracy: 0.9758 - val_loss: 0.4420 - val_accuracy: 0.9070\n",
            "Epoch 22/30\n",
            "48000/48000 [==============================] - 6s 130us/sample - loss: 0.0645 - accuracy: 0.9753 - val_loss: 0.4532 - val_accuracy: 0.9057\n",
            "Epoch 23/30\n",
            "48000/48000 [==============================] - 6s 127us/sample - loss: 0.0607 - accuracy: 0.9772 - val_loss: 0.5074 - val_accuracy: 0.9005\n",
            "Epoch 24/30\n",
            "48000/48000 [==============================] - 6s 131us/sample - loss: 0.0630 - accuracy: 0.9761 - val_loss: 0.4686 - val_accuracy: 0.9064\n",
            "Epoch 25/30\n",
            "48000/48000 [==============================] - 6s 129us/sample - loss: 0.0572 - accuracy: 0.9783 - val_loss: 0.4661 - val_accuracy: 0.9022\n",
            "Epoch 26/30\n",
            "48000/48000 [==============================] - 6s 127us/sample - loss: 0.0601 - accuracy: 0.9774 - val_loss: 0.4743 - val_accuracy: 0.9021\n",
            "Epoch 27/30\n",
            "48000/48000 [==============================] - 6s 130us/sample - loss: 0.0585 - accuracy: 0.9783 - val_loss: 0.4509 - val_accuracy: 0.9094\n",
            "Epoch 28/30\n",
            "48000/48000 [==============================] - 6s 129us/sample - loss: 0.0609 - accuracy: 0.9785 - val_loss: 0.4790 - val_accuracy: 0.9047\n",
            "Epoch 29/30\n",
            "48000/48000 [==============================] - 6s 129us/sample - loss: 0.0573 - accuracy: 0.9790 - val_loss: 0.5081 - val_accuracy: 0.9007\n",
            "Epoch 30/30\n",
            "48000/48000 [==============================] - 6s 131us/sample - loss: 0.0568 - accuracy: 0.9791 - val_loss: 0.5198 - val_accuracy: 0.9061\n"
          ],
          "name": "stdout"
        }
      ]
    },
    {
      "cell_type": "markdown",
      "metadata": {
        "id": "xJhxEDF-BcTW",
        "colab_type": "text"
      },
      "source": [
        "Plotando os resultados  da acuracia - modelo 2 "
      ]
    },
    {
      "cell_type": "code",
      "metadata": {
        "id": "GJIkc0a30zdd",
        "colab_type": "code",
        "colab": {
          "base_uri": "https://localhost:8080/",
          "height": 313
        },
        "outputId": "9fa4cff4-0974-46b9-b630-452efac4c84b"
      },
      "source": [
        "#Grafico da accuracia\n",
        "\n",
        "#historico\n",
        "#historico.history\n",
        "\n",
        "#historico.history['accuracy']\n",
        "#plotar o grafiro\n",
        "plt.plot(historico.history['accuracy'])\n",
        "plt.plot(historico.history['val_accuracy'])\n",
        "plt.title('Acurácia por épocas')\n",
        "plt.xlabel('épocas')\n",
        "plt.ylabel('acurácia')\n",
        "plt.legend(['treino', 'validação'])"
      ],
      "execution_count": 80,
      "outputs": [
        {
          "output_type": "execute_result",
          "data": {
            "text/plain": [
              "<matplotlib.legend.Legend at 0x7f72905d2d68>"
            ]
          },
          "metadata": {
            "tags": []
          },
          "execution_count": 80
        },
        {
          "output_type": "display_data",
          "data": {
            "image/png": "[encoded data removed]",
            "text/plain": [
              "<Figure size 432x288 with 1 Axes>"
            ]
          },
          "metadata": {
            "tags": [],
            "needs_background": "light"
          }
        }
      ]
    },
    {
      "cell_type": "markdown",
      "metadata": {
        "id": "VO9lA9oZBiMj",
        "colab_type": "text"
      },
      "source": [
        "Plotando os resultados  da perda - modelo 2 "
      ]
    },
    {
      "cell_type": "code",
      "metadata": {
        "id": "X9l0C6Tx3Fzk",
        "colab_type": "code",
        "colab": {
          "base_uri": "https://localhost:8080/",
          "height": 313
        },
        "outputId": "6b5695d8-c77b-460f-8179-6528864ed674"
      },
      "source": [
        "#Grafico da perda\n",
        "plt.plot(historico.history['loss'])\n",
        "plt.plot(historico.history['val_loss'])\n",
        "plt.title('Perda por épocas')\n",
        "plt.xlabel('épocas')\n",
        "plt.ylabel('perda')\n",
        "plt.legend(['treino', 'validação'])"
      ],
      "execution_count": 81,
      "outputs": [
        {
          "output_type": "execute_result",
          "data": {
            "text/plain": [
              "<matplotlib.legend.Legend at 0x7f72904e1908>"
            ]
          },
          "metadata": {
            "tags": []
          },
          "execution_count": 81
        },
        {
          "output_type": "display_data",
          "data": {
            "image/png": "[encoded data removed]",
            "text/plain": [
              "<Figure size 432x288 with 1 Axes>"
            ]
          },
          "metadata": {
            "tags": [],
            "needs_background": "light"
          }
        }
      ]
    },
    {
      "cell_type": "markdown",
      "metadata": {
        "id": "EBrN3KEbBoOM",
        "colab_type": "text"
      },
      "source": [
        "Criando, compilando, treinando e normalizando o modelo - Camada Drop out - 3 "
      ]
    },
    {
      "cell_type": "code",
      "metadata": {
        "id": "E9cZvbrV6FY5",
        "colab_type": "code",
        "colab": {
          "base_uri": "https://localhost:8080/",
          "height": 69
        },
        "outputId": "f08fd66a-ddb5-4425-e9c8-82497d18d638"
      },
      "source": [
        "#Modelo 3 - Normalizacao Tecnica  dropout - adormecendo a cada 10 unidades quero q 2 nao pegue tanto informacoes \n",
        "\n",
        "modelo = keras.Sequential([ \n",
        "    keras.layers.Flatten(input_shape=(28, 28)),\n",
        "    keras.layers.Dense(256, activation=tensorflow.nn.relu),\n",
        "    keras.layers.Dropout(0.2),\n",
        "    keras.layers.Dense(10, activation=tensorflow.nn.softmax)\n",
        "])\n",
        "\n",
        "modelo.compile(optimizer='adam', \n",
        "               loss='sparse_categorical_crossentropy')\n",
        "\n",
        "modelo.fit(imagens_treino, identificacoes_treino)"
      ],
      "execution_count": 82,
      "outputs": [
        {
          "output_type": "stream",
          "text": [
            "Train on 60000 samples\n",
            "60000/60000 [==============================] - 7s 122us/sample - loss: 1.0054\n"
          ],
          "name": "stdout"
        },
        {
          "output_type": "execute_result",
          "data": {
            "text/plain": [
              "<tensorflow.python.keras.callbacks.History at 0x7f72903d4080>"
            ]
          },
          "metadata": {
            "tags": []
          },
          "execution_count": 82
        }
      ]
    },
    {
      "cell_type": "markdown",
      "metadata": {
        "id": "KNwaTgaGBtkV",
        "colab_type": "text"
      },
      "source": [
        "##Executando o modelo 3 "
      ]
    },
    {
      "cell_type": "code",
      "metadata": {
        "id": "T7jPYf1i6NnM",
        "colab_type": "code",
        "colab": {
          "base_uri": "https://localhost:8080/",
          "height": 208
        },
        "outputId": "9e95f7b8-3a22-4f31-b222-7886d2d5d6ca"
      },
      "source": [
        "#Executando novamente o modelo\n",
        "modelo.compile(optimizer='adam', \n",
        "               loss='sparse_categorical_crossentropy',\n",
        "               metrics=['accuracy']\n",
        "               )\n",
        "historico = modelo.fit(imagens_treino, identificacoes_treino, epochs =5, validation_split=0.2)"
      ],
      "execution_count": 83,
      "outputs": [
        {
          "output_type": "stream",
          "text": [
            "Train on 48000 samples, validate on 12000 samples\n",
            "Epoch 1/5\n",
            "48000/48000 [==============================] - 6s 130us/sample - loss: 0.6287 - accuracy: 0.7706 - val_loss: 0.5716 - val_accuracy: 0.7941\n",
            "Epoch 2/5\n",
            "48000/48000 [==============================] - 6s 127us/sample - loss: 0.5659 - accuracy: 0.7965 - val_loss: 0.5273 - val_accuracy: 0.8129\n",
            "Epoch 3/5\n",
            "48000/48000 [==============================] - 6s 131us/sample - loss: 0.5283 - accuracy: 0.8119 - val_loss: 0.4988 - val_accuracy: 0.8234\n",
            "Epoch 4/5\n",
            "48000/48000 [==============================] - 6s 128us/sample - loss: 0.4994 - accuracy: 0.8216 - val_loss: 0.4762 - val_accuracy: 0.8305\n",
            "Epoch 5/5\n",
            "48000/48000 [==============================] - 6s 128us/sample - loss: 0.4794 - accuracy: 0.8310 - val_loss: 0.4590 - val_accuracy: 0.8363\n"
          ],
          "name": "stdout"
        }
      ]
    },
    {
      "cell_type": "markdown",
      "metadata": {
        "id": "h_rLc7ANCMif",
        "colab_type": "text"
      },
      "source": [
        "##Salvando o modelo treinado"
      ]
    },
    {
      "cell_type": "code",
      "metadata": {
        "id": "FSLmXCVv7L3_",
        "colab_type": "code",
        "colab": {}
      },
      "source": [
        "#Salvando o modelo - apos as normalizacoes\n",
        "modelo.save('modelo.h5')\n",
        "#carregametno do modelo\n",
        "modelo_salvo = load_model('modelo.h5')"
      ],
      "execution_count": 0,
      "outputs": []
    },
    {
      "cell_type": "markdown",
      "metadata": {
        "id": "k8Es9FnUC0vN",
        "colab_type": "text"
      },
      "source": [
        "##Plotando os resultados da acuracia - modelo 3"
      ]
    },
    {
      "cell_type": "code",
      "metadata": {
        "id": "CzA20ogu6gJV",
        "colab_type": "code",
        "colab": {
          "base_uri": "https://localhost:8080/",
          "height": 313
        },
        "outputId": "3cfddff3-b7ae-457b-aec3-1d62312566b8"
      },
      "source": [
        "plt.plot(historico.history['accuracy'])\n",
        "plt.plot(historico.history['val_accuracy'])\n",
        "plt.title('Acurácia por épocas')\n",
        "plt.xlabel('épocas')\n",
        "plt.ylabel('acurácia')\n",
        "plt.legend(['treino', 'validação'])"
      ],
      "execution_count": 84,
      "outputs": [
        {
          "output_type": "execute_result",
          "data": {
            "text/plain": [
              "<matplotlib.legend.Legend at 0x7f72902ba080>"
            ]
          },
          "metadata": {
            "tags": []
          },
          "execution_count": 84
        },
        {
          "output_type": "display_data",
          "data": {
            "image/png": "[encoded data removed]",
            "text/plain": [
              "<Figure size 432x288 with 1 Axes>"
            ]
          },
          "metadata": {
            "tags": [],
            "needs_background": "light"
          }
        }
      ]
    },
    {
      "cell_type": "markdown",
      "metadata": {
        "id": "HpczPQl3C9Tc",
        "colab_type": "text"
      },
      "source": [
        "Plotando os resultados da perda - modelo 3"
      ]
    },
    {
      "cell_type": "code",
      "metadata": {
        "id": "jzEO38ew6jTn",
        "colab_type": "code",
        "colab": {
          "base_uri": "https://localhost:8080/",
          "height": 313
        },
        "outputId": "a607e52d-7c26-4f67-8ca6-508d46d574c5"
      },
      "source": [
        "plt.plot(historico.history['loss'])\n",
        "plt.plot(historico.history['val_loss'])\n",
        "plt.title('Perda por épocas')\n",
        "plt.xlabel('épocas')\n",
        "plt.ylabel('perda')\n",
        "plt.legend(['treino', 'validação'])"
      ],
      "execution_count": 85,
      "outputs": [
        {
          "output_type": "execute_result",
          "data": {
            "text/plain": [
              "<matplotlib.legend.Legend at 0x7f729cea5710>"
            ]
          },
          "metadata": {
            "tags": []
          },
          "execution_count": 85
        },
        {
          "output_type": "display_data",
          "data": {
            "image/png": "[encoded data removed]",
            "text/plain": [
              "<Figure size 432x288 with 1 Axes>"
            ]
          },
          "metadata": {
            "tags": [],
            "needs_background": "light"
          }
        }
      ]
    },
    {
      "cell_type": "markdown",
      "metadata": {
        "id": "TGiu2hLFDIKD",
        "colab_type": "text"
      },
      "source": [
        "##Testando o modelo e o modelo salvo"
      ]
    },
    {
      "cell_type": "code",
      "metadata": {
        "id": "RaQ-PGuAxMGq",
        "colab_type": "code",
        "colab": {
          "base_uri": "https://localhost:8080/",
          "height": 87
        },
        "outputId": "55ad9e96-e21b-417a-eb7e-f43a32977d65"
      },
      "source": [
        "#Serão feitos os nossos testes - novos dados\n",
        "#testes recebe as imagens de testes\n",
        "testes = modelo.predict(imagens_teste)\n",
        "\n",
        "#saber o resultado do teste, pegar o maior argumento dos testes - resultado do teste - predict\n",
        "print('Resultado teste: ', np.argmax(testes[1]))\n",
        "#resultado real , numero da imagem e identificacao\n",
        "print('Numero da imagem de teste: ', identificacoes_teste[1])\n",
        "\n",
        "testes_modelo_salvo = modelo_salvo.predict(imagens_teste)\n",
        "print('Resultado teste modelo salvo: ', np.argmax(testes[1]))\n",
        "print('Numero da imagem de teste modelo salvo: ', identificacoes_teste[1])"
      ],
      "execution_count": 87,
      "outputs": [
        {
          "output_type": "stream",
          "text": [
            "Resultado teste:  2\n",
            "Numero da imagem de teste:  2\n",
            "Resultado teste modelo salvo:  2\n",
            "Numero da imagem de teste modelo salbo:  2\n"
          ],
          "name": "stdout"
        }
      ]
    },
    {
      "cell_type": "markdown",
      "metadata": {
        "id": "eSnlqlBsDe_q",
        "colab_type": "text"
      },
      "source": [
        "#Avaliando o modelo "
      ]
    },
    {
      "cell_type": "code",
      "metadata": {
        "id": "ayMfPck7ymw6",
        "colab_type": "code",
        "colab": {
          "base_uri": "https://localhost:8080/",
          "height": 69
        },
        "outputId": "680cf27d-280c-4ce9-d830-5480f1be476d"
      },
      "source": [
        "#avaliacao dos resultados - retorna array com dois numeros (perda, accuracia)\n",
        "perda_teste, acuracia_teste = modelo.evaluate(imagens_teste, identificacoes_teste)\n",
        "\n",
        "print('Perda do teste ', perda_teste)\n",
        "print('Acuracia do teste ', acuracia_teste)"
      ],
      "execution_count": 38,
      "outputs": [
        {
          "output_type": "stream",
          "text": [
            "10000/10000 [==============================] - 1s 59us/sample - loss: 62.2581 - accuracy: 0.8643\n",
            "Perda do teste  62.25813336119652\n",
            "Acuracia do teste  0.8643\n"
          ],
          "name": "stdout"
        }
      ]
    }
  ]
}