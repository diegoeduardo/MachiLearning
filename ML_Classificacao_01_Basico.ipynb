{
  "nbformat": 4,
  "nbformat_minor": 0,
  "metadata": {
    "colab": {
      "name": "ML_Classificacao_01 Basico",
      "provenance": [],
      "collapsed_sections": [],
      "authorship_tag": "ABX9TyPJe6DN08pmQvdfJygHNJjO",
      "include_colab_link": true
    },
    "kernelspec": {
      "name": "python3",
      "display_name": "Python 3"
    }
  },
  "cells": [
    {
      "cell_type": "markdown",
      "metadata": {
        "id": "view-in-github",
        "colab_type": "text"
      },
      "source": [
        "<a href=\"https://colab.research.google.com/github/diegoeduardo/MachineLearning/blob/master/ML_Classificacao_01_Basico.ipynb\" target=\"_parent\"><img src=\"https://colab.research.google.com/assets/colab-badge.svg\" alt=\"Open In Colab\"/></a>"
      ]
    },
    {
      "cell_type": "markdown",
      "metadata": {
        "id": "9hVqasrlql1t",
        "colab_type": "text"
      },
      "source": [
        "#Introducao a ML e Classificação - 1 Basico"
      ]
    },
    {
      "cell_type": "code",
      "metadata": {
        "id": "JXbVK4OwqkXs",
        "colab_type": "code",
        "colab": {}
      },
      "source": [
        "#criando os objetos\n",
        "#features (1 sim, 0 nao)\n",
        "#pelo longo? \n",
        "#perna curta ? \n",
        "#faz auau?\n",
        "\n",
        "porco1 = [0, 1, 0]\n",
        "porco2 = [0, 1, 1]\n",
        "porco3 = [1, 1, 0]\n",
        "\n",
        "cachorro1 = [0, 1, 1]\n",
        "cachorro2 = [1, 0, 1]\n",
        "cachorro3 = [1 ,1, 1]\n",
        "\n",
        "#print(porco1)\n",
        "\n",
        "#1 - porco , 0 - cachorro\n",
        "#f(x) = y\n",
        "train_x = [porco1, porco2, porco3, cachorro1,cachorro2 , cachorro3]\n",
        "train_y = [1,1,1,0,0,0] #labels"
      ],
      "execution_count": 0,
      "outputs": []
    },
    {
      "cell_type": "code",
      "metadata": {
        "id": "djoAHxn4r65-",
        "colab_type": "code",
        "outputId": "3428c7de-313a-4db7-c66a-95f613e63a67",
        "colab": {
          "base_uri": "https://localhost:8080/",
          "height": 88
        }
      },
      "source": [
        "from sklearn.svm import LinearSVC\n",
        "\n",
        "model = LinearSVC()\n",
        "model.fit(train_x,train_y)"
      ],
      "execution_count": 0,
      "outputs": [
        {
          "output_type": "execute_result",
          "data": {
            "text/plain": [
              "LinearSVC(C=1.0, class_weight=None, dual=True, fit_intercept=True,\n",
              "          intercept_scaling=1, loss='squared_hinge', max_iter=1000,\n",
              "          multi_class='ovr', penalty='l2', random_state=None, tol=0.0001,\n",
              "          verbose=0)"
            ]
          },
          "metadata": {
            "tags": []
          },
          "execution_count": 3
        }
      ]
    },
    {
      "cell_type": "code",
      "metadata": {
        "id": "p3JP2WMxsPTZ",
        "colab_type": "code",
        "outputId": "adb5d28d-8e14-40fc-894d-0b1493b659ce",
        "colab": {
          "base_uri": "https://localhost:8080/",
          "height": 35
        }
      },
      "source": [
        "animal_misterioso = [1,1,1]\n",
        "\n",
        "model.predict([animal_misterioso])"
      ],
      "execution_count": 0,
      "outputs": [
        {
          "output_type": "execute_result",
          "data": {
            "text/plain": [
              "array([0])"
            ]
          },
          "metadata": {
            "tags": []
          },
          "execution_count": 4
        }
      ]
    },
    {
      "cell_type": "code",
      "metadata": {
        "id": "2zWBicAisdlU",
        "colab_type": "code",
        "colab": {}
      },
      "source": [
        "#varios animais\n",
        "misterio1 =[1,1,1]\n",
        "misterio2 =[1,1,0]\n",
        "misterio3 =[0,1,1]\n",
        "\n",
        "test_x = [misterio1, misterio2, misterio3]\n",
        "test_y = [0,1,1 ]"
      ],
      "execution_count": 0,
      "outputs": []
    },
    {
      "cell_type": "code",
      "metadata": {
        "id": "12r2arNWwtNc",
        "colab_type": "code",
        "colab": {}
      },
      "source": [
        "previsoes = model.predict(test_x)"
      ],
      "execution_count": 0,
      "outputs": []
    },
    {
      "cell_type": "code",
      "metadata": {
        "id": "fZlmtjmjtc_J",
        "colab_type": "code",
        "outputId": "9c7cf6d6-4272-4f15-d91e-aab3e3b312ea",
        "colab": {
          "base_uri": "https://localhost:8080/",
          "height": 35
        }
      },
      "source": [
        "#devolve valores se foi correto ou nao\n",
        "previsoes == test_y"
      ],
      "execution_count": 0,
      "outputs": [
        {
          "output_type": "execute_result",
          "data": {
            "text/plain": [
              "array([ True,  True, False])"
            ]
          },
          "metadata": {
            "tags": []
          },
          "execution_count": 7
        }
      ]
    },
    {
      "cell_type": "code",
      "metadata": {
        "id": "Yo_nLvYbtn3d",
        "colab_type": "code",
        "outputId": "d557090b-8ee5-4a52-8bc5-f423781d1ecc",
        "colab": {
          "base_uri": "https://localhost:8080/",
          "height": 35
        }
      },
      "source": [
        "#fazendo o calculo da taxa de acerto - manual\n",
        "corretos = (previsoes == test_y).sum()\n",
        "total = len(test_x)\n",
        "taxa_de_acerto = corretos/total\n",
        "print(\"Taxa de acerto %.2f\" % (taxa_de_acerto*100))"
      ],
      "execution_count": 0,
      "outputs": [
        {
          "output_type": "stream",
          "text": [
            "Taxa de acerto 66.67\n"
          ],
          "name": "stdout"
        }
      ]
    },
    {
      "cell_type": "code",
      "metadata": {
        "id": "iRBnYh2Lui_V",
        "colab_type": "code",
        "outputId": "dae15bf4-53bf-448c-da1a-1b2b4b0df5bf",
        "colab": {
          "base_uri": "https://localhost:8080/",
          "height": 35
        }
      },
      "source": [
        "#usando a accuracy score do sklearn - automatico\n",
        "from sklearn.metrics import accuracy_score\n",
        "\n",
        "taxa_de_acerto2 = accuracy_score(test_y, previsoes)\n",
        "print(\"Taxa de acerto %.2f\" % (taxa_de_acerto*100))"
      ],
      "execution_count": 0,
      "outputs": [
        {
          "output_type": "stream",
          "text": [
            "Taxa de acerto 66.67\n"
          ],
          "name": "stdout"
        }
      ]
    }
  ]
}